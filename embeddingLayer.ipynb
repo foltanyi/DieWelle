{
 "cells": [
  {
   "cell_type": "code",
   "execution_count": null,
   "metadata": {
    "collapsed": true
   },
   "outputs": [],
   "source": [
    "import pandas as pd\n",
    "import numpy as np\n",
    "import keras\n",
    "from keras.models import Sequential\n",
    "from keras.layers import Dense, Activation , Embedding , Flatten\n",
    "from keras.callbacks import Callback\n",
    "from keras.optimizers import Adam\n",
    "import re\n",
    "# males -> 1\n",
    "# females -> 0\n",
    "\n",
    "#read processed data\n",
    "df_processed = pd.read_json(\"out.json\")\n",
    "print(\"df head: \" + str(df_processed.head()))\n",
    "\n",
    "values_processed = df_processed.values\n",
    "docs_padded_string = values_processed[:,2]\n",
    "# calculate max_length based on the first entry of the 'post' column's encoded string (it conteins the encoded ints\n",
    "# separated by ','-s so it will have to be split and converted back to int before use.)\n",
    "max_length = len(docs_padded_string[0].split(','))\n",
    "print(\"max_length: \" + str(max_length))\n",
    "padded_docs = np.zeros((len(docs_padded_string),max_length))\n",
    "# convert the string to a list of ints by splitting them along ',' characters:\n",
    "for i in range(len(docs_padded_string)):\n",
    "    padded_docs[i] = [int(x) for x in docs_padded_string[i].split(\",\")]\n",
    "    \n",
    "#print(\"padded docs string: \" + str(docs_padded_string[0]))\n",
    "#print(\"padded docs: \" + str(padded_docs[0]))\n",
    "gender_list = values_processed[: , 1]\n",
    "# check finalized word_dict:\n",
    "\n",
    "\n",
    "# get valid/test/train split\n",
    "valid_split = 0.2\n",
    "test_split = 0.1\n",
    "nb_samples = values_processed.shape[0]\n",
    "\n",
    "\n",
    "\n",
    "\n",
    "X_train = padded_docs[0:int(nb_samples*(1-valid_split-test_split))]\n",
    "Y_train = gender_list[0:int(nb_samples*(1-valid_split-test_split))]\n",
    "X_valid = padded_docs[int(nb_samples*(1-valid_split-test_split)):int(nb_samples*(1-test_split))]\n",
    "Y_valid = gender_list[int(nb_samples*(1-valid_split-test_split)):int(nb_samples*(1-test_split))]\n",
    "X_test  = padded_docs[int(nb_samples*(1-test_split)):]\n",
    "Y_test  = gender_list[int(nb_samples*(1-test_split)):]\n",
    "\n",
    "# check shapes\n",
    "print(\"X_train shape: \" + str(X_train.shape))\n",
    "print(\"Y_train shape: \" + str(Y_train.shape))\n",
    "print(\"X_valid shape: \" + str(X_valid.shape))\n",
    "print(\"Y_valid shape: \" + str(Y_valid.shape))# define the model\n",
    "model = Sequential()\n",
    "model.add(Embedding(vocab_size, 32, input_length=max_length))\n",
    "model.add(Flatten())\n",
    "model.add(Dense(10, activation='relu'))\n",
    "model.add(Dense(1, activation='sigmoid'))\n",
    "# compile the model\n",
    "model.compile(optimizer='adam', loss='binary_crossentropy', metrics=['acc'])\n",
    "# summarize the model\n",
    "print(model.summary())\n",
    "print(\"X_test shape: \" + str(X_test.shape))\n",
    "print(\"Y_test shape: \" + str(Y_test.shape))"
   ]
  }
 ],
 "metadata": {
  "kernelspec": {
   "display_name": "Python 2",
   "language": "python",
   "name": "python2"
  },
  "language_info": {
   "codemirror_mode": {
    "name": "ipython",
    "version": 2
   },
   "file_extension": ".py",
   "mimetype": "text/x-python",
   "name": "python",
   "nbconvert_exporter": "python",
   "pygments_lexer": "ipython2",
   "version": "2.7.6"
  }
 },
 "nbformat": 4,
 "nbformat_minor": 0
}
